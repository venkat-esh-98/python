{
 "cells": [
  {
   "cell_type": "code",
   "execution_count": 3,
   "id": "a71e8dab",
   "metadata": {},
   "outputs": [
    {
     "name": "stdout",
     "output_type": "stream",
     "text": [
      "[56, 23, 43, 78, 11]\n"
     ]
    }
   ],
   "source": [
    "\n",
    "word_freq = {\n",
    "    'Hello' : 56,\n",
    "    \"at\"    : 23,\n",
    "    'test'  : 43,\n",
    "    'This'  : 78,\n",
    "    'Why'   : 11\n",
    "}\n",
    "\n",
    "list_of_values = list(word_freq.values())\n",
    "\n",
    "print(list_of_values)"
   ]
  },
  {
   "cell_type": "code",
   "execution_count": null,
   "id": "adb9a13e",
   "metadata": {},
   "outputs": [],
   "source": []
  }
 ],
 "metadata": {
  "kernelspec": {
   "display_name": "Python 3 (ipykernel)",
   "language": "python",
   "name": "python3"
  },
  "language_info": {
   "codemirror_mode": {
    "name": "ipython",
    "version": 3
   },
   "file_extension": ".py",
   "mimetype": "text/x-python",
   "name": "python",
   "nbconvert_exporter": "python",
   "pygments_lexer": "ipython3",
   "version": "3.9.7"
  }
 },
 "nbformat": 4,
 "nbformat_minor": 5
}
