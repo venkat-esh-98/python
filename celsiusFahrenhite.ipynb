{
 "cells": [
  {
   "cell_type": "code",
   "execution_count": 1,
   "id": "d345a09c",
   "metadata": {},
   "outputs": [
    {
     "name": "stdout",
     "output_type": "stream",
     "text": [
      "enter temp in celsius38\n",
      "temprature in celsius is : 38.0\n",
      "temprature in fahrenhite is : 100.4\n"
     ]
    }
   ],
   "source": [
    "cels= float(input(\"enter temp in celsius\"))\n",
    "print(\"temprature in celsius is :\",cels)\n",
    "fahr = cels*9/5+32\n",
    "print(\"temprature in fahrenhite is :\",fahr)\n"
   ]
  },
  {
   "cell_type": "code",
   "execution_count": null,
   "id": "645c281b",
   "metadata": {},
   "outputs": [],
   "source": []
  }
 ],
 "metadata": {
  "kernelspec": {
   "display_name": "Python 3 (ipykernel)",
   "language": "python",
   "name": "python3"
  },
  "language_info": {
   "codemirror_mode": {
    "name": "ipython",
    "version": 3
   },
   "file_extension": ".py",
   "mimetype": "text/x-python",
   "name": "python",
   "nbconvert_exporter": "python",
   "pygments_lexer": "ipython3",
   "version": "3.9.7"
  }
 },
 "nbformat": 4,
 "nbformat_minor": 5
}
