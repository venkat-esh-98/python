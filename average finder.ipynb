{
 "cells": [
  {
   "cell_type": "code",
   "execution_count": 4,
   "id": "71355042",
   "metadata": {},
   "outputs": [
    {
     "name": "stdout",
     "output_type": "stream",
     "text": [
      "Enter Number to calculate sum and average10\n",
      "sum of  10 using while loop  55\n",
      "average of 10 using while loop  5.5\n"
     ]
    }
   ],
   "source": [
    "n = input(\"Enter Number to calculate sum and average\")\n",
    " \n",
    "n = int (n)\n",
    " \n",
    "totalNo = n\n",
    " \n",
    "sum=0\n",
    " \n",
    "while (n >= 0):\n",
    "    sum += n\n",
    "    n-=1\n",
    "     \n",
    "average  = sum / totalNo\n",
    " \n",
    "print (\"sum of \", totalNo ,\"using while loop \", sum)\n",
    " \n",
    "print (\"average of\", totalNo ,\"using while loop \", average)"
   ]
  },
  {
   "cell_type": "code",
   "execution_count": null,
   "id": "65140556",
   "metadata": {},
   "outputs": [],
   "source": []
  }
 ],
 "metadata": {
  "kernelspec": {
   "display_name": "Python 3 (ipykernel)",
   "language": "python",
   "name": "python3"
  },
  "language_info": {
   "codemirror_mode": {
    "name": "ipython",
    "version": 3
   },
   "file_extension": ".py",
   "mimetype": "text/x-python",
   "name": "python",
   "nbconvert_exporter": "python",
   "pygments_lexer": "ipython3",
   "version": "3.9.7"
  }
 },
 "nbformat": 4,
 "nbformat_minor": 5
}
