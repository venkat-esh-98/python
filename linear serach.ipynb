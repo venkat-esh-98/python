{
 "cells": [
  {
   "cell_type": "code",
   "execution_count": 1,
   "id": "88b5627a",
   "metadata": {},
   "outputs": [
    {
     "name": "stdout",
     "output_type": "stream",
     "text": [
      "Enter size of list: \t3\n",
      "Enter any number: \t34\n",
      "Enter any number: \t88\n",
      "Enter any number: \t55\n",
      "\n",
      "Enter number to search: \t34\n",
      "\n",
      "34 found at position 0\n"
     ]
    }
   ],
   "source": [
    "list = []\n",
    "num = int(input(\"Enter size of list: \\t\"))\n",
    "for n in range(num):\n",
    "    numbers = int(input(\"Enter any number: \\t\"))\n",
    "    list.append(numbers)\n",
    "\n",
    "x = int(input(\"\\nEnter number to search: \\t\"))\n",
    "\n",
    "found = False\n",
    "\n",
    "for i in range(len(list)):\n",
    "    if list[i] == x:\n",
    "        found = True\n",
    "        print(\"\\n%d found at position %d\" % (x, i))\n",
    "        break\n",
    "if not found:\n",
    "    print(\"\\n%d is not in list\" % x)"
   ]
  },
  {
   "cell_type": "code",
   "execution_count": null,
   "id": "3df3efcc",
   "metadata": {},
   "outputs": [],
   "source": []
  }
 ],
 "metadata": {
  "kernelspec": {
   "display_name": "Python 3 (ipykernel)",
   "language": "python",
   "name": "python3"
  },
  "language_info": {
   "codemirror_mode": {
    "name": "ipython",
    "version": 3
   },
   "file_extension": ".py",
   "mimetype": "text/x-python",
   "name": "python",
   "nbconvert_exporter": "python",
   "pygments_lexer": "ipython3",
   "version": "3.9.7"
  }
 },
 "nbformat": 4,
 "nbformat_minor": 5
}
