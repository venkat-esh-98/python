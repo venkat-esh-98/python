{
 "cells": [
  {
   "cell_type": "code",
   "execution_count": 2,
   "id": "f4bd8fef",
   "metadata": {},
   "outputs": [
    {
     "name": "stdout",
     "output_type": "stream",
     "text": [
      "How many elements you want to enter? 6\n",
      "Enter 6 positive numbers\n",
      "3\n",
      "9\n",
      "18\n",
      "29\n",
      "24\n",
      "23\n",
      "The largest number in list is 29\n"
     ]
    }
   ],
   "source": [
    "mylist = []\n",
    "size = int(input('How many elements you want to enter? '))\n",
    "\n",
    "print('Enter',str(size),'positive numbers')\n",
    "\n",
    "for i in range(size):\n",
    "    data = int(input())\n",
    "    mylist.append(data)\n",
    "\n",
    "max = 0\n",
    "for data in mylist:\n",
    "    if data > max:\n",
    "        max = data\n",
    "\n",
    "print('The largest number in list is', max)"
   ]
  },
  {
   "cell_type": "code",
   "execution_count": null,
   "id": "85d43a79",
   "metadata": {},
   "outputs": [],
   "source": []
  }
 ],
 "metadata": {
  "kernelspec": {
   "display_name": "Python 3 (ipykernel)",
   "language": "python",
   "name": "python3"
  },
  "language_info": {
   "codemirror_mode": {
    "name": "ipython",
    "version": 3
   },
   "file_extension": ".py",
   "mimetype": "text/x-python",
   "name": "python",
   "nbconvert_exporter": "python",
   "pygments_lexer": "ipython3",
   "version": "3.9.7"
  }
 },
 "nbformat": 4,
 "nbformat_minor": 5
}
