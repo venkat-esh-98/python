{
 "cells": [
  {
   "cell_type": "code",
   "execution_count": 2,
   "id": "9d724e05",
   "metadata": {},
   "outputs": [
    {
     "name": "stdout",
     "output_type": "stream",
     "text": [
      "Enter the number of real numbers: 9\n",
      "Enter a real number: 3\n",
      "Enter a real number: 3\n",
      "Enter a real number: 4\n",
      "Enter a real number: 5\n",
      "Enter a real number: 6\n",
      "Enter a real number: 7\n",
      "Enter a real number: 9\n",
      "Enter a real number: 1\n",
      "Enter a real number: 8\n",
      "The product of the numbers is:  8.0\n"
     ]
    }
   ],
   "source": [
    "i = 0\n",
    "\n",
    "product = 1\n",
    "\n",
    "count = int(input(\"Enter the number of real numbers: \"))\n",
    "\n",
    "for i in range(count):\n",
    "\n",
    "    x = float(input(\"Enter a real number: \"))\n",
    "\n",
    "product = product * x\n",
    "\n",
    "print(\"The product of the numbers is: \", product)"
   ]
  },
  {
   "cell_type": "code",
   "execution_count": null,
   "id": "d633e1a4",
   "metadata": {},
   "outputs": [],
   "source": []
  }
 ],
 "metadata": {
  "kernelspec": {
   "display_name": "Python 3 (ipykernel)",
   "language": "python",
   "name": "python3"
  },
  "language_info": {
   "codemirror_mode": {
    "name": "ipython",
    "version": 3
   },
   "file_extension": ".py",
   "mimetype": "text/x-python",
   "name": "python",
   "nbconvert_exporter": "python",
   "pygments_lexer": "ipython3",
   "version": "3.9.7"
  }
 },
 "nbformat": 4,
 "nbformat_minor": 5
}
